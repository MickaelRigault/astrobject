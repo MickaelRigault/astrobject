{
 "cells": [
  {
   "cell_type": "code",
   "execution_count": null,
   "metadata": {
    "collapsed": true
   },
   "outputs": [],
   "source": [
    "# Basic import\n",
    "## plot within the notebook\n",
    "%matplotlib inline\n",
    "import warnings\n",
    "import numpy as np\n",
    "## No annoying warnings\n",
    "warnings.filterwarnings('ignore')\n",
    "# - Astrobject Modules\n",
    "import astrobject as a"
   ]
  },
  {
   "cell_type": "markdown",
   "metadata": {},
   "source": [
    "# This is a Test of Astropy Modeling.\n",
    "\n",
    "This notebook starts by showing how astropy modeling works following examples from http://docs.astropy.org/en/stable/modeling/. \n",
    "\n",
    "In a Second times, we fit 2D data to show the ability of astropy modeling to fit real data: \n",
    "\n",
    "* A fake 2D gaussian\n",
    "* A real g-band star observation from SDSS.\n",
    "  * The star is fitted either by a gaussian\n",
    "  * or a Moffat profile\n",
    "\n",
    "***\n",
    "\n",
    "## Astropy Example: The 1D gaussian example\n",
    "\n",
    "Generate the Data"
   ]
  },
  {
   "cell_type": "code",
   "execution_count": null,
   "metadata": {
    "collapsed": true
   },
   "outputs": [],
   "source": [
    "import matplotlib.pyplot as plt\n",
    "from astropy.modeling import models, fitting\n",
    "\n",
    "# Generate fake data\n",
    "np.random.seed(0)\n",
    "x = np.linspace(-5., 5., 200)\n",
    "y = 3 * np.exp(-0.5 * (x - 1.3)**2 / 0.8**2)\n",
    "y += np.random.normal(0., 0.2, x.shape)"
   ]
  },
  {
   "cell_type": "markdown",
   "metadata": {},
   "source": [
    "Fit the data using a box model"
   ]
  },
  {
   "cell_type": "code",
   "execution_count": null,
   "metadata": {
    "collapsed": true
   },
   "outputs": [],
   "source": [
    "t_init = models.Trapezoid1D(amplitude=1., x_0=0., \n",
    "                            width=1., slope=0.5)\n",
    "fit_t = fitting.LevMarLSQFitter()\n",
    "t = fit_t(t_init, x, y)\n"
   ]
  },
  {
   "cell_type": "markdown",
   "metadata": {},
   "source": [
    "Fit the data using a Gaussian"
   ]
  },
  {
   "cell_type": "code",
   "execution_count": null,
   "metadata": {
    "collapsed": true
   },
   "outputs": [],
   "source": [
    "g_init = models.Gaussian1D(amplitude=1., mean=0, stddev=1.)\n",
    "fit_g = fitting.LevMarLSQFitter()\n",
    "g = fit_g(g_init, x, y)"
   ]
  },
  {
   "cell_type": "markdown",
   "metadata": {},
   "source": [
    "Plot the data with the best-fit model"
   ]
  },
  {
   "cell_type": "code",
   "execution_count": null,
   "metadata": {},
   "outputs": [],
   "source": [
    "plt.figure(figsize=(8,5))\n",
    "plt.plot(x, y, 'ko')\n",
    "plt.plot(x, t(x), lw=2,label='Trapezoid')\n",
    "plt.plot(x, g(x), lw=2,label='Gaussian')\n",
    "plt.xlabel('Position')\n",
    "plt.ylabel('Flux')\n",
    "plt.legend(loc=2)"
   ]
  },
  {
   "cell_type": "markdown",
   "metadata": {},
   "source": [
    "## Astropy Example: Combining models the bimodal test\n",
    "\n",
    "Generate fake data"
   ]
  },
  {
   "cell_type": "code",
   "execution_count": null,
   "metadata": {
    "collapsed": true
   },
   "outputs": [],
   "source": [
    "np.random.seed(42)\n",
    "g1 = models.Gaussian1D(1, 0, 0.2)\n",
    "g2 = models.Gaussian1D(2.5, 0.5, 0.1)\n",
    "x = np.linspace(-1, 1, 200)\n",
    "y = g1(x) + g2(x) + np.random.normal(0., 0.2, x.shape)"
   ]
  },
  {
   "cell_type": "markdown",
   "metadata": {},
   "source": [
    "**Now to fit the data create a new superposition with initial guesses for the parameters**\n"
   ]
  },
  {
   "cell_type": "code",
   "execution_count": null,
   "metadata": {},
   "outputs": [],
   "source": [
    "g1_init = models.Gaussian1D(1, 0, 0.1)\n",
    "g2_init = models.Gaussian1D(2, 0.5, 0.1)\n",
    "gg_init = g1_init + g2_init # Could have done it directly too.\n",
    "fitter = fitting.SLSQPLSQFitter()\n",
    "gg_fit = fitter(gg_init, x, y)"
   ]
  },
  {
   "cell_type": "markdown",
   "metadata": {},
   "source": [
    "Plot the data with the best-fit model"
   ]
  },
  {
   "cell_type": "code",
   "execution_count": null,
   "metadata": {},
   "outputs": [],
   "source": [
    "plt.figure(figsize=(8,5))\n",
    "plt.plot(x, y, 'ko')\n",
    "plt.plot(x, gg_fit(x), lw=2)\n",
    "plt.xlabel('Position')\n",
    "plt.ylabel('Flux')\n",
    "gg_fit"
   ]
  },
  {
   "cell_type": "markdown",
   "metadata": {},
   "source": [
    "# The 2D fitting. On the road to PSF fitting"
   ]
  },
  {
   "cell_type": "markdown",
   "metadata": {},
   "source": [
    "## Astropy Example: The polynomial background\n",
    "Generate fake data"
   ]
  },
  {
   "cell_type": "code",
   "execution_count": null,
   "metadata": {
    "collapsed": true
   },
   "outputs": [],
   "source": [
    "np.random.seed(0)\n",
    "y, x = np.mgrid[:128, :128]\n",
    "z = 2. * x ** 2 - 0.5 * x ** 2 + 1.5 * x * y - 1.\n",
    "z += np.random.normal(0., 0.1, z.shape) * 50000.\n"
   ]
  },
  {
   "cell_type": "markdown",
   "metadata": {},
   "source": [
    "Fit the data using\n",
    "astropy.modeling. Models will be a second order polynomial"
   ]
  },
  {
   "cell_type": "code",
   "execution_count": null,
   "metadata": {
    "collapsed": true
   },
   "outputs": [],
   "source": [
    "p_init = models.Polynomial2D(degree=2)\n",
    "fit_p = fitting.LevMarLSQFitter()"
   ]
  },
  {
   "cell_type": "code",
   "execution_count": null,
   "metadata": {
    "collapsed": true
   },
   "outputs": [],
   "source": [
    "p = fit_p(p_init, x, y, z)"
   ]
  },
  {
   "cell_type": "markdown",
   "metadata": {},
   "source": [
    "Plot the data with the best-fit model"
   ]
  },
  {
   "cell_type": "code",
   "execution_count": null,
   "metadata": {},
   "outputs": [],
   "source": [
    "plt.figure(figsize=(10, 5))\n",
    "plt.subplot(1, 3, 1)\n",
    "plt.imshow(z, origin='lower', interpolation='nearest', vmin=-1e4, vmax=5e4)\n",
    "plt.title(\"Data\")\n",
    "plt.subplot(1, 3, 2)\n",
    "plt.imshow(p(x, y), origin='lower', interpolation='nearest', vmin=-1e4,\n",
    "           vmax=5e4)\n",
    "plt.title(\"Model\")\n",
    "plt.subplot(1, 3, 3)\n",
    "plt.imshow(z - p(x, y), origin='lower', interpolation='nearest', vmin=-1e4,\n",
    "           vmax=5e4)\n",
    "plt.title(\"Residual\")"
   ]
  },
  {
   "cell_type": "markdown",
   "metadata": {},
   "source": [
    "## Gaussian Fit on Fake Data\n",
    "\n",
    "First, creates the fake data"
   ]
  },
  {
   "cell_type": "code",
   "execution_count": null,
   "metadata": {
    "collapsed": true
   },
   "outputs": [],
   "source": [
    "from scipy import stats"
   ]
  },
  {
   "cell_type": "code",
   "execution_count": null,
   "metadata": {},
   "outputs": [],
   "source": [
    "x, y = np.mgrid[-2:2:.01, -2:2:.01]\n",
    "pos = np.empty(x.shape + (2,))\n",
    "pos[:, :, 0] = x; pos[:, :, 1] = y\n",
    "rv = stats.multivariate_normal([0.5, -0.3], [[.8, 0.], [0., .8]])\n",
    "gauss2d = rv.pdf(pos) \n",
    "gauss2d += np.random.normal(0., 0.05, gauss2d.shape)\n"
   ]
  },
  {
   "cell_type": "code",
   "execution_count": null,
   "metadata": {},
   "outputs": [],
   "source": [
    "plt.imshow(gauss2d, origin='lower', interpolation='nearest')"
   ]
  },
  {
   "cell_type": "code",
   "execution_count": null,
   "metadata": {},
   "outputs": [],
   "source": [
    "p_init = models.Gaussian2D(amplitude=1,x_mean=0,y_mean=0,\n",
    "                           cov_matrix=[[1.0,0],[0,1.0]])\n",
    "fit_p = fitting.LevMarLSQFitter()\n",
    "p = fit_p(p_init, x, y, gauss2d)"
   ]
  },
  {
   "cell_type": "markdown",
   "metadata": {},
   "source": [
    "Plot The data with best-fit model"
   ]
  },
  {
   "cell_type": "code",
   "execution_count": null,
   "metadata": {},
   "outputs": [],
   "source": [
    "plt.figure(figsize=(10, 5))\n",
    "prop = dict(origin='lower', interpolation='nearest',\n",
    "           vmax=0.2,vmin=0.001)\n",
    "plt.subplot(1, 3, 1)\n",
    "plt.imshow(gauss2d, **prop)\n",
    "plt.title(\"Data\")\n",
    "plt.subplot(1, 3, 2)\n",
    "plt.imshow(p(x, y), **prop)\n",
    "plt.title(\"Model\")\n",
    "plt.subplot(1, 3, 3)\n",
    "plt.imshow((gauss2d - p(x, y)), **prop)\n",
    "plt.title(\"Residual\")"
   ]
  },
  {
   "cell_type": "markdown",
   "metadata": {},
   "source": [
    "\n",
    "# Fitting Real Data\n",
    "\n",
    "We are going to fit real data on SDSS images"
   ]
  },
  {
   "cell_type": "code",
   "execution_count": null,
   "metadata": {},
   "outputs": [],
   "source": [
    "sdss = a.get_instrument(\"data/sdss_PTF10qjq_g.fits\")"
   ]
  },
  {
   "cell_type": "code",
   "execution_count": null,
   "metadata": {},
   "outputs": [],
   "source": [
    "data = sdss.data[950:1000,730:780]\n",
    "prop = dict(origin='lower', interpolation='nearest')\n",
    "pos_guess = [20,30]"
   ]
  },
  {
   "cell_type": "code",
   "execution_count": null,
   "metadata": {},
   "outputs": [],
   "source": [
    "plt.imshow(data,**prop)\n",
    "plt.axvline(pos_guess[0], color=\"0.7\", alpha=0.4)\n",
    "plt.axhline(pos_guess[1], color=\"0.7\", alpha=0.4)"
   ]
  },
  {
   "cell_type": "markdown",
   "metadata": {},
   "source": [
    "### Fit data using Gaussian2d"
   ]
  },
  {
   "cell_type": "code",
   "execution_count": null,
   "metadata": {},
   "outputs": [],
   "source": [
    "y, x = np.mgrid[:50, :50]\n",
    "p_init = models.Gaussian2D(amplitude=1,x_mean=pos_guess[0],y_mean=pos_guess[1],\n",
    "                           cov_matrix=[[1.0,0],[0,1.0]])\n",
    "fit_p = fitting.LevMarLSQFitter()"
   ]
  },
  {
   "cell_type": "code",
   "execution_count": null,
   "metadata": {
    "collapsed": true
   },
   "outputs": [],
   "source": [
    "p = fit_p(p_init, x, y, data)"
   ]
  },
  {
   "cell_type": "code",
   "execution_count": null,
   "metadata": {},
   "outputs": [],
   "source": [
    "plt.figure(figsize=[10,5])\n",
    "plt.subplot(1, 3, 1)\n",
    "prop[\"vmax\"]=1\n",
    "plt.imshow(data, **prop)\n",
    "plt.title(\"Data\")\n",
    "plt.subplot(1, 3, 2)\n",
    "plt.imshow(p(x, y), **prop)\n",
    "plt.title(\"Model - Gaussian2D\")\n",
    "plt.subplot(1, 3, 3)\n",
    "plt.imshow((data - p(x, y)), **prop)\n",
    "plt.title(\"Residual\")"
   ]
  },
  {
   "cell_type": "code",
   "execution_count": null,
   "metadata": {},
   "outputs": [],
   "source": [
    "p"
   ]
  },
  {
   "cell_type": "markdown",
   "metadata": {},
   "source": [
    "### Fit data using Moffat2d"
   ]
  },
  {
   "cell_type": "code",
   "execution_count": null,
   "metadata": {},
   "outputs": [],
   "source": [
    "p_init = models.Moffat2D(amplitude=1,x_0=pos_guess[0],y_0=pos_guess[1],gamma=1,alpha=2)\n",
    "fit_p = fitting.LevMarLSQFitter()\n",
    "p = fit_p(p_init, x, y, data)"
   ]
  },
  {
   "cell_type": "code",
   "execution_count": null,
   "metadata": {},
   "outputs": [],
   "source": [
    "plt.figure(figsize=[10,5])\n",
    "plt.subplot(1, 3, 1)\n",
    "prop[\"vmax\"]=1\n",
    "plt.imshow(data, **prop)\n",
    "plt.title(\"Data\")\n",
    "plt.subplot(1, 3, 2)\n",
    "plt.imshow(p(x, y), **prop)\n",
    "plt.title(\"Model - Moffat2D\")\n",
    "plt.subplot(1, 3, 3)\n",
    "plt.imshow((data - p(x, y)), **prop)\n",
    "plt.title(\"Residual\")"
   ]
  },
  {
   "cell_type": "code",
   "execution_count": null,
   "metadata": {},
   "outputs": [],
   "source": [
    "p"
   ]
  },
  {
   "cell_type": "markdown",
   "metadata": {
    "collapsed": true
   },
   "source": [
    "# Fitting Several Stars"
   ]
  },
  {
   "cell_type": "code",
   "execution_count": null,
   "metadata": {},
   "outputs": [],
   "source": [
    "sdss = a.get_instrument(\"data/sdss_PTF10qjq_g.fits\", dataslice0 = [1200,1400],dataslice1 = [400,700])"
   ]
  },
  {
   "cell_type": "code",
   "execution_count": null,
   "metadata": {},
   "outputs": [],
   "source": [
    "sdss.download_catalogue()"
   ]
  },
  {
   "cell_type": "code",
   "execution_count": null,
   "metadata": {
    "collapsed": true
   },
   "outputs": [],
   "source": [
    "sdss.sep_extract()"
   ]
  },
  {
   "cell_type": "code",
   "execution_count": null,
   "metadata": {},
   "outputs": [],
   "source": [
    "pl = sdss.show(show_catalogue=True, show_sepobjects=True)"
   ]
  },
  {
   "cell_type": "code",
   "execution_count": null,
   "metadata": {
    "collapsed": true
   },
   "outputs": [],
   "source": [
    "sepmaskstars = sdss.sepobjects.get_indexes(stars_only=True)"
   ]
  },
  {
   "cell_type": "code",
   "execution_count": null,
   "metadata": {},
   "outputs": [],
   "source": [
    "xcoords,ycoords,flux = sdss.sepobjects.get([\"x\",\"y\",\"flux\"],mask=sepmaskstars).T"
   ]
  },
  {
   "cell_type": "code",
   "execution_count": null,
   "metadata": {},
   "outputs": [],
   "source": [
    "pl = sdss.show(show_catalogue=True, show_sepobjects=True)\n",
    "sdss._plot[\"ax\"].plot(xcoords,ycoords,ls=\"None\", marker=\"x\",ms=10,mew=2,lw=2,color=\"g\", scaley=False, scalex=False)"
   ]
  },
  {
   "cell_type": "markdown",
   "metadata": {},
   "source": [
    "### Now Let's define the model that is a Moffat2D for each of these stars\n",
    "\n",
    "The unit value will enable us to provide more precise inutial guess to the moffat profile"
   ]
  },
  {
   "cell_type": "code",
   "execution_count": null,
   "metadata": {},
   "outputs": [],
   "source": [
    "unit = sdss.data.max()/ flux.max() ; print unit"
   ]
  },
  {
   "cell_type": "markdown",
   "metadata": {},
   "source": [
    "As Initial guess for gamma: sep psf"
   ]
  },
  {
   "cell_type": "code",
   "execution_count": null,
   "metadata": {},
   "outputs": [],
   "source": [
    "psf_pix = sdss.sepobjects.get_fwhm_pxl()"
   ]
  },
  {
   "cell_type": "code",
   "execution_count": null,
   "metadata": {},
   "outputs": [],
   "source": [
    "boundaries = {\"amplitude\":[0,None],\"gamma\":[1,psf_pix*10],\"alpha\":[1,10]}\n",
    "coords_bounds = {\"x_0\":[xcoords[0]-2,xcoords[0]+2],\"y_0\":[ycoords[0]-2,ycoords[0]+2]}\n",
    "\n",
    "p_init = models.Moffat2D(amplitude=flux[0]*unit,x_0=xcoords[0],y_0=ycoords[0],gamma=psf_pix*2,alpha=2,\n",
    "                        bounds=a.utils.tools.kwargs_update(boundaries,**coords_bounds))\n",
    "def tiedgamma(g):\n",
    "    return g.gamma_0\n",
    "\n",
    "def tiedalpha(g):\n",
    "    return g.alpha_0\n",
    "\n",
    "for f_,x_,y_ in zip(flux[1:],xcoords[1:],ycoords[1:]):\n",
    "    coords_bounds = {\"x_0\":[x_-2,x_+2],\"y_0\":[y_-2,y_+2]}\n",
    "    p_init += models.Moffat2D(amplitude=f_*unit,x_0=x_,y_0=y_,gamma=psf_pix*2,alpha=2,\n",
    "                              bounds=a.utils.tools.kwargs_update(boundaries,**coords_bounds),\n",
    "                              tied={\"gamma\":tiedgamma,\"alpha\":tiedalpha})\n",
    "\n",
    "fit_p = fitting.SLSQPLSQFitter()"
   ]
  },
  {
   "cell_type": "code",
   "execution_count": null,
   "metadata": {},
   "outputs": [],
   "source": [
    "y, x = np.mgrid[:sdss.height, :sdss.width]\n",
    "p = fit_p(p_init, x, y, sdss.data)"
   ]
  },
  {
   "cell_type": "code",
   "execution_count": null,
   "metadata": {},
   "outputs": [],
   "source": [
    "fig = plt.figure(figsize=[10,5])\n",
    "prop = dict(origin=\"lower\", interpolation=\"nearest\", vmin=-5,vmax=0, cmap=plt.cm.binary)\n",
    "\n",
    "# - Data\n",
    "ax1 = fig.add_subplot(1, 3, 1)\n",
    "ax1.imshow(np.log10(sdss.data), **prop)\n",
    "ax1.set_title(\"Data\")\n",
    "\n",
    "# - Model\n",
    "ax2 = fig.add_subplot(1, 3, 2)\n",
    "ax2.imshow(np.log10(p(x, y)), **prop)\n",
    "ax2.set_title(\"Model - Moffat2D\")\n",
    "\n",
    "# - Residual\n",
    "ax3 = fig.add_subplot(1, 3, 3)\n",
    "ax3.imshow(np.log10((sdss.data - p(x, y))), **prop)\n",
    "ax3.set_title(\"Residual\")\n",
    "\n",
    "#[ax.plot(xcoords,ycoords,ls=\"None\", marker=\"x\",ms=10,mew=2,lw=1,color=\"g\", scaley=False, scalex=False)\n",
    "#for ax in [ax1,ax2,ax3]]"
   ]
  },
  {
   "cell_type": "code",
   "execution_count": null,
   "metadata": {
    "collapsed": true
   },
   "outputs": [],
   "source": []
  }
 ],
 "metadata": {
  "kernelspec": {
   "display_name": "Python 3",
   "language": "python",
   "name": "python3"
  },
  "language_info": {
   "codemirror_mode": {
    "name": "ipython",
    "version": 3
   },
   "file_extension": ".py",
   "mimetype": "text/x-python",
   "name": "python",
   "nbconvert_exporter": "python",
   "pygments_lexer": "ipython3",
   "version": "3.6.8"
  }
 },
 "nbformat": 4,
 "nbformat_minor": 1
}
